{
 "cells": [
  {
   "cell_type": "code",
   "execution_count": 3,
   "id": "983fd4a9-c71e-4823-87dd-8a4f16f4c3e7",
   "metadata": {},
   "outputs": [
    {
     "name": "stdout",
     "output_type": "stream",
     "text": [
      "1\n"
     ]
    }
   ],
   "source": [
    "C = 1 # Dimenionless Constant -- Correction Factor\n",
    "nu = 0.0000049 # Kinematic Viscosity [m^2/s] = 4.9 [centistokes]\n",
    "#rho = __ # Mass Density [kg/m^3]\n",
    "#L = __ # Characteristic Length [m] ~ width of magnets\n",
    "#V = __ # Fluid Volume [m^3]\n",
    "#I = __ # Current [A]\n",
    "N = 12 # Number of Magnets\n",
    "#B_0 = __ # Magnetic Field Strength\n",
    "#z = __ # Electrolytic Solution Depth [m]\n",
    "#zeta = __ # Skin Depth [m]"
   ]
  },
  {
   "cell_type": "code",
   "execution_count": null,
   "id": "95f8d6dd-b719-44f6-841e-2180c84e2afb",
   "metadata": {},
   "outputs": [],
   "source": []
  }
 ],
 "metadata": {
  "kernelspec": {
   "display_name": "Python 3 (ipykernel)",
   "language": "python",
   "name": "python3"
  },
  "language_info": {
   "codemirror_mode": {
    "name": "ipython",
    "version": 3
   },
   "file_extension": ".py",
   "mimetype": "text/x-python",
   "name": "python",
   "nbconvert_exporter": "python",
   "pygments_lexer": "ipython3",
   "version": "3.11.7"
  }
 },
 "nbformat": 4,
 "nbformat_minor": 5
}
